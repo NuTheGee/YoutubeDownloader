{
 "cells": [
  {
   "cell_type": "markdown",
   "metadata": {},
   "source": [
    "\n",
    "* [Master boot record](https://en.wikipedia.org/wiki/Master_boot_record)\n",
    "* [Partition type](https://en.wikipedia.org/wiki/Partition_type)\n",
    "* [GUID Partition Table](https://en.wikipedia.org/wiki/GUID_Partition_Table)\n",
    "* [Extended_boot_record](https://en.wikipedia.org/wiki/Extended_boot_record)\n",
    "* [Docs » ext4 Filesystem » 2. Data Structures and Algorithms](https://www.kernel.org/doc/html/latest/filesystems/ext4/ondisk/index.html)\n",
    "* [Ext4 Disk Layout](https://ext4.wiki.kernel.org/index.php/Ext4_Disk_Layout)"
   ]
  },
  {
   "cell_type": "code",
   "execution_count": 3,
   "metadata": {},
   "outputs": [],
   "source": [
    "FORM = {\n",
    "    \"MBR\": [\n",
    "        (\"bootstrap code\", 446, \"hex\"),\n",
    "        (\"partition entry 1\", 16, \"PTE\"),\n",
    "        (\"partition entry 2\", 16, \"PTE\"),\n",
    "        (\"partition entry 3\", 16, \"PTE\"),\n",
    "        (\"partition entry 4\", 16, \"PTE\"),\n",
    "        (\"magic number\", 2, \"hex\"),\n",
    "    ],\n",
    "    \"PTE\": [\n",
    "        (\"status\", 1, \"hex\"),\n",
    "        (\"CHS of first sector\", 3, \"integer\"),\n",
    "        (\"partition type\", 1, \"hex\"),        \n",
    "        (\"CHS of last sector\", 3, \"integer\"),\n",
    "        (\"LBA of first sector\", 4, \"integer\"),        \n",
    "        (\"number of sectors\", 4, \"integer\"),        \n",
    "    ],\n",
    "    \"EBR\": [\n",
    "        (\"unused\", 446, \"hex\"),\n",
    "        (\"partition entry 1\", 16, \"PTE\"),\n",
    "        (\"partition entry 1\", 16, \"PTE\"),\n",
    "        (\"unused\", 16, \"hex\"),\n",
    "        (\"unused\", 16, \"hex\"),\n",
    "        (\"magic number\", 2, \"hex\"),\n",
    "    ],\n",
    "    \"SUPER_BLOCK\"\n",
    "}"
   ]
  },
  {
   "cell_type": "markdown",
   "metadata": {},
   "source": [
    "```\n",
    "partition entry 1\n",
    "\tstatus          \t80 -> bootable\n",
    "\tpartition type  \t83 -> native linux file system\n",
    "\tLBA of first sector\t2048\n",
    "\tnumber of sectors\t33552384 -> 16,776,192 KB\n",
    "    \n",
    "partition entry 2\n",
    "\tstatus          \t00 -> not bootable\n",
    "\tpartition type  \t05 -> extended partition with CHS addressing ----\n",
    "\tLBA of first sector\t33556478                                      |\n",
    "\tnumber of sectors\t8384514 -> 4,192,257 KB                         |\n",
    "                                                                         |\n",
    "partition entry 5 <------------------------------------------------------\n",
    "\tstatus          \t00\n",
    "\tpartition type  \t82 -> Linux swap space\n",
    "\tLBA of first sector\t2 -> 33556480\n",
    "\tnumber of sectors\t8384512 -> 4,192,256 KB\n",
    "```"
   ]
  },
  {
   "cell_type": "code",
   "execution_count": null,
   "metadata": {},
   "outputs": [],
   "source": []
  }
 ],
 "metadata": {
  "kernelspec": {
   "display_name": "Python 3",
   "language": "python",
   "name": "python3"
  },
  "language_info": {
   "codemirror_mode": {
    "name": "ipython",
    "version": 3
   },
   "file_extension": ".py",
   "mimetype": "text/x-python",
   "name": "python",
   "nbconvert_exporter": "python",
   "pygments_lexer": "ipython3",
   "version": "3.6.4"
  }
 },
 "nbformat": 4,
 "nbformat_minor": 2
}
