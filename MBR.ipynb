{
 "cells": [
  {
   "cell_type": "markdown",
   "metadata": {},
   "source": [
    "\n",
    "* [Master boot record](https://en.wikipedia.org/wiki/Master_boot_record)\n",
    "* [Partition type](https://en.wikipedia.org/wiki/Partition_type)\n",
    "* [GUID Partition Table](https://en.wikipedia.org/wiki/GUID_Partition_Table)\n",
    "* [Extended_boot_record](https://en.wikipedia.org/wiki/Extended_boot_record)\n",
    "* [Docs » ext4 Filesystem » 2. Data Structures and Algorithms](https://www.kernel.org/doc/html/latest/filesystems/ext4/ondisk/index.html)\n",
    "* [Ext4 Disk Layout](https://ext4.wiki.kernel.org/index.php/Ext4_Disk_Layout)"
   ]
  },
  {
   "cell_type": "code",
   "execution_count": 1,
   "metadata": {},
   "outputs": [],
   "source": [
    "FORM = {\n",
    "    \"MBR\": [\n",
    "        (\"bootstrap code\", 446, \"hex\"),\n",
    "        (\"partition entry 1\", 16, \"PTE\"),\n",
    "        (\"partition entry 2\", 16, \"PTE\"),\n",
    "        (\"partition entry 3\", 16, \"PTE\"),\n",
    "        (\"partition entry 4\", 16, \"PTE\"),\n",
    "        (\"magic number\", 2, \"hex\"),\n",
    "    ],\n",
    "    \"PTE\": [\n",
    "        (\"status\", 1, \"hex\"),\n",
    "        (\"CHS of first sector\", 3, \"integer\"),\n",
    "        (\"partition type\", 1, \"hex\"),        \n",
    "        (\"CHS of last sector\", 3, \"integer\"),\n",
    "        (\"LBA of first sector\", 4, \"integer\"),        \n",
    "        (\"number of sectors\", 4, \"integer\"),        \n",
    "    ]\n",
    "}"
   ]
  },
  {
   "cell_type": "code",
   "execution_count": null,
   "metadata": {},
   "outputs": [],
   "source": []
  }
 ],
 "metadata": {
  "kernelspec": {
   "display_name": "Python 3",
   "language": "python",
   "name": "python3"
  },
  "language_info": {
   "codemirror_mode": {
    "name": "ipython",
    "version": 3
   },
   "file_extension": ".py",
   "mimetype": "text/x-python",
   "name": "python",
   "nbconvert_exporter": "python",
   "pygments_lexer": "ipython3",
   "version": "3.6.4"
  }
 },
 "nbformat": 4,
 "nbformat_minor": 2
}
