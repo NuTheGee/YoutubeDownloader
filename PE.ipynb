{
 "cells": [
  {
   "cell_type": "markdown",
   "metadata": {},
   "source": [
    "![](https://upload.wikimedia.org/wikipedia/commons/1/1b/Portable_Executable_32_bit_Structure_in_SVG_fixed.svg)"
   ]
  },
  {
   "cell_type": "markdown",
   "metadata": {},
   "source": [
    "### PE(Portable Executable)\n",
    "* Microsoft [PE file format](http://www.microsoft.com/whdc/system/platform/firmware/PECOFF.mspx)\n",
    "* Wikipedia [Portable Executable](https://en.wikipedia.org/wiki/Portable_Executable)\n",
    "\n",
    "### DOS MZ executable\n",
    "* Wikipedia [DOS MZ executable](https://en.wikipedia.org/wiki/DOS_MZ_executable)\n",
    "* https://marcin-chwedczuk.github.io/a-closer-look-at-portable-executable-msdos-stub\n",
    "\n",
    "```\n",
    "     e_magic: 4d 5a            // Magic number 'MZ'\n",
    "      e_cblp: 0x0090           // Bytes on last page of file\n",
    "        e_cp: 0x0003           // Pages in file\n",
    "      e_crlc: 0x0000           // Relocations\n",
    "   e_cparhdr: 0x0004           // Size of header in paragraphs\n",
    "  e_minalloc: 0x0000           // Minimum extra paragraphs needed\n",
    "  e_maxalloc: 0xffff           // Maximum extra paragraphs needed\n",
    "        e_ss: 0x0000           // Initial (relative) SS value\n",
    "        e_sp: 0x00b8           // Initial SP value\n",
    "      e_csum: 0x0000           // Checksum\n",
    "        e_ip: 0x0000           // Initial IP value\n",
    "        e_cs: 0x0000           // Initial (relative) CS value\n",
    "    e_lfarlc: 0x0040           // File address of relocation table\n",
    "      e_ovno: 0x0000           // Overlay number\n",
    "       e_res: 00 00 00 00 00 00 00 00 \n",
    "                               // Reserved\n",
    "     e_oemid: 0x0000           // OEM identifier (for e_oeminfo)\n",
    "   e_oeminfo: 0x0000           // OEM information; e_oemid specific\n",
    "      e_res2: 00 00 00 00 00 00 00 00 00 00 00 00 00 00 00 00 00 00 00 00 \n",
    "                               // Reserved\n",
    "    e_lfanew: 0x00000080       // File address of the new exe header\n",
    "```"
   ]
  },
  {
   "cell_type": "markdown",
   "metadata": {},
   "source": [
    "```\n",
    "000000000\t4d 5a 90 00 03 00 00 00 04 00 00 00 ff ff 00 00 \tMZ..............\n",
    "000000010\tb8 00 00 00 00 00 00 00 40 00 00 00 00 00 00 00 \t........@.......\n",
    "000000020\t00 00 00 00 00 00 00 00 00 00 00 00 00 00 00 00 \t................\n",
    "000000030\t00 00 00 00 00 00 00 00 00 00 00 00 e8 00 00 00 \t................\n",
    "000000040\t0e 1f ba 0e 00 b4 09 cd 21 b8 01 4c cd 21 54 68 \t........!..L.!Th\n",
    "000000050\t69 73 20 70 72 6f 67 72 61 6d 20 63 61 6e 6e 6f \tis.program.canno\n",
    "000000060\t74 20 62 65 20 72 75 6e 20 69 6e 20 44 4f 53 20 \tt.be.run.in.DOS.\n",
    "000000070\t6d 6f 64 65 2e 0d 0d 0a 24 00 00 00 00 00 00 00 \tmode....$.......\n",
    "000000080\tc6 96 8d fb 82 f7 e3 a8 82 f7 e3 a8 82 f7 e3 a8 \t................\n",
    "000000090\t8b 8f 67 a8 83 f7 e3 a8 8b 8f 76 a8 83 f7 e3 a8 \t..g.......v.....\n",
    "0000000a0\t8b 8f 70 a8 8b f7 e3 a8 82 f7 e2 a8 a8 f7 e3 a8 \t..p.............\n",
    "0000000b0\t8b 8f 60 a8 93 f7 e3 a8 8b 8f 6a a8 83 f7 e3 a8 \t..`.......j.....\n",
    "0000000c0\t8b 8f 77 a8 83 f7 e3 a8 8b 8f 72 a8 83 f7 e3 a8 \t..w.......r.....\n",
    "0000000d0\t52 69 63 68 82 f7 e3 a8 00 00 00 00 00 00 00 00 \tRich............\n",
    "0000000e0\t00 00 00 00 00 00 00 00 \n",
    "```"
   ]
  },
  {
   "cell_type": "code",
   "execution_count": null,
   "metadata": {},
   "outputs": [],
   "source": []
  }
 ],
 "metadata": {
  "kernelspec": {
   "display_name": "Python 3",
   "language": "python",
   "name": "python3"
  },
  "language_info": {
   "codemirror_mode": {
    "name": "ipython",
    "version": 3
   },
   "file_extension": ".py",
   "mimetype": "text/x-python",
   "name": "python",
   "nbconvert_exporter": "python",
   "pygments_lexer": "ipython3",
   "version": "3.6.4"
  }
 },
 "nbformat": 4,
 "nbformat_minor": 2
}
