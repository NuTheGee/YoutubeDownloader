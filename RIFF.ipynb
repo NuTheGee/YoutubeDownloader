{
 "cells": [
  {
   "cell_type": "markdown",
   "metadata": {},
   "source": [
    "### RIFF 파싱 순서\n",
    "\n",
    "1. RIFF: 전체를 chunk로 나눈다.\n",
    "\n",
    "2. ANI: 헤더 파싱\n",
    "\n",
    "```\n",
    "struct tagANIHeader {\n",
    "DWORD cbSizeOf; // Num bytes in AniHeader (36 bytes)\n",
    "DWORD cFrames; // Number of unique Icons in this cursor\n",
    "DWORD cSteps; // Number of Blits before the animation cycles\n",
    "DWORD cx, cy; // reserved, must be zero.\n",
    "DWORD cBitCount, cPlanes; // reserved, must be zero.\n",
    "DWORD JifRate; // Default Jiffies (1/60th of a second) if rate chunk not present.\n",
    "DWORD flags; // Animation Flag (see AF_ constants)\n",
    "} ANIHeader;\n",
    "```\n",
    "\n",
    "3. ICO: 이미지 파싱"
   ]
  },
  {
   "cell_type": "code",
   "execution_count": null,
   "metadata": {},
   "outputs": [],
   "source": []
  }
 ],
 "metadata": {
  "kernelspec": {
   "display_name": "Python 3",
   "language": "python",
   "name": "python3"
  },
  "language_info": {
   "codemirror_mode": {
    "name": "ipython",
    "version": 3
   },
   "file_extension": ".py",
   "mimetype": "text/x-python",
   "name": "python",
   "nbconvert_exporter": "python",
   "pygments_lexer": "ipython3",
   "version": "3.6.4"
  }
 },
 "nbformat": 4,
 "nbformat_minor": 2
}
